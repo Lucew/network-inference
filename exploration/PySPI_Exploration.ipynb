{
 "cells": [
  {
   "cell_type": "code",
   "execution_count": 1,
   "id": "initial_id",
   "metadata": {
    "collapsed": true,
    "ExecuteTime": {
     "end_time": "2024-07-17T09:49:41.159246300Z",
     "start_time": "2024-07-17T09:49:39.735936700Z"
    }
   },
   "outputs": [],
   "source": [
    "import applySPI as ap\n",
    "import dill\n",
    "import pyspi\n",
    "import loadData as ld\n",
    "import random\n",
    "import numpy as np\n",
    "import collections\n",
    "import pandas as pd\n",
    "from tqdm import tqdm\n",
    "import sys\n",
    "import os\n",
    "from sklearn.metrics import roc_auc_score\n",
    "from sklearn.cluster import SpectralClustering\n",
    "from sklearn.metrics import adjusted_rand_score, normalized_mutual_info_score, adjusted_mutual_info_score, homogeneity_score, completeness_score, v_measure_score\n",
    "import sys"
   ]
  },
  {
   "cell_type": "code",
   "outputs": [],
   "source": [
    "# https://stackoverflow.com/a/45669280\n",
    "class HiddenPrints:\n",
    "    def __enter__(self):\n",
    "        self._original_stdout = sys.stdout\n",
    "        sys.stdout = open(os.devnull, 'w')\n",
    "\n",
    "    def __exit__(self, exc_type, exc_val, exc_tb):\n",
    "        sys.stdout.close()\n",
    "        sys.stdout = self._original_stdout"
   ],
   "metadata": {
    "collapsed": false,
    "ExecuteTime": {
     "end_time": "2024-07-17T09:49:41.174679600Z",
     "start_time": "2024-07-17T09:49:41.166167100Z"
    }
   },
   "id": "446777f1379d23a5",
   "execution_count": 2
  },
  {
   "cell_type": "code",
   "outputs": [
    {
     "name": "stderr",
     "output_type": "stream",
     "text": [
      "Frequency minimum set to 0; overriding to 1e-5.\n"
     ]
    }
   ],
   "source": [
    "with HiddenPrints():\n",
    "    calc = pyspi.calculator.Calculator(subset='fast')\n",
    "\n",
    "# specify the location of your saved calculator .pkl file\n",
    "loc = r'.\\saved_calculator_name.pkl'\n",
    "# loc = r'.\\saved_calculator_wo_data.pkl'\n",
    "\n",
    "with open(loc, 'rb') as f:\n",
    "    calc = dill.load(f)"
   ],
   "metadata": {
    "collapsed": false,
    "ExecuteTime": {
     "end_time": "2024-07-17T10:04:31.382254Z",
     "start_time": "2024-07-17T10:04:31.305394300Z"
    }
   },
   "id": "d43d2f6e414f8a41",
   "execution_count": 16
  },
  {
   "cell_type": "code",
   "outputs": [
    {
     "name": "stderr",
     "output_type": "stream",
     "text": [
      "Loading Data: 100%|██████████| 51/51 [00:05<00:00,  9.67it/s]\n",
      "Resampling Data: 100%|██████████| 51/51 [00:04<00:00, 11.81it/s]\n",
      "Check length: 100%|██████████| 51/51 [00:00<00:00, 50991.54it/s]\n",
      "Check index: 100%|██████████| 51/51 [00:00<00:00, 4226.96it/s]\n",
      "Rename and Reformat: 100%|██████████| 51/51 [00:00<00:00, 943.53it/s]"
     ]
    },
    {
     "name": "stdout",
     "output_type": "stream",
     "text": [
      "Loaded and resampled all with sampling rate 1min signals from (Timestamp('2013-08-25 15:22:00'), Timestamp('2013-09-01 06:58:00')) with length 9577.\n",
      "We have 35 signals with 9577 samples per signal.\n"
     ]
    },
    {
     "name": "stderr",
     "output_type": "stream",
     "text": [
      "\n"
     ]
    }
   ],
   "source": [
    "# get the dataset\n",
    "dataset, _, _ = ld.load_keti(path=r\"C:\\Users\\Lucas\\Data\\KETI\", sample_rate='1min')\n",
    "dataset = dataset[dataset.columns[:35]]\n",
    "print(f'We have {dataset.shape[1]} signals with {dataset.shape[0]} samples per signal.')"
   ],
   "metadata": {
    "collapsed": false,
    "ExecuteTime": {
     "end_time": "2024-07-17T10:04:52.904295500Z",
     "start_time": "2024-07-17T10:04:42.871805400Z"
    }
   },
   "id": "fe76fed8353e2ee3",
   "execution_count": 18
  },
  {
   "cell_type": "code",
   "outputs": [],
   "source": [
    "calc._dataset = None\n",
    "# save the calculator object as a .pkl\n",
    "with open('saved_calculator_wo_data.pkl', 'wb') as f:\n",
    "    dill.dump(calc, f)"
   ],
   "metadata": {
    "collapsed": false,
    "ExecuteTime": {
     "end_time": "2024-07-17T10:04:54.188617Z",
     "start_time": "2024-07-17T10:04:54.147678600Z"
    }
   },
   "id": "b87d8919cdf0428d",
   "execution_count": 19
  },
  {
   "cell_type": "code",
   "outputs": [],
   "source": [
    "# rename the rooms\n",
    "calc.table.index = dataset.columns\n",
    "first_table = list(calc.table.columns.get_level_values(0))[0]\n",
    "calc.table.rename(columns={level_two: col for (level_two, col) in zip(calc.table[first_table].columns, dataset.columns)}, inplace=True)"
   ],
   "metadata": {
    "collapsed": false,
    "ExecuteTime": {
     "end_time": "2024-07-17T10:04:55.288000700Z",
     "start_time": "2024-07-17T10:04:55.243327200Z"
    }
   },
   "id": "ed74b121652f056e",
   "execution_count": 20
  },
  {
   "cell_type": "code",
   "outputs": [],
   "source": [
    "# get the rooms\n",
    "rooms = {col.split('_')[0] for col in dataset.columns}\n",
    "sensors = {col.split('_')[1] for col in dataset.columns}"
   ],
   "metadata": {
    "collapsed": false,
    "ExecuteTime": {
     "end_time": "2024-07-17T10:04:56.278858500Z",
     "start_time": "2024-07-17T10:04:56.271411200Z"
    }
   },
   "id": "41fa009cac2a2f24",
   "execution_count": 21
  },
  {
   "cell_type": "code",
   "outputs": [
    {
     "name": "stdout",
     "output_type": "stream",
     "text": [
      "We retained 187/216 similarity measures.\n"
     ]
    },
    {
     "name": "stderr",
     "output_type": "stream",
     "text": [
      "Going through measures: 100%|██████████| 187/187 [00:04<00:00, 43.59it/s]\n"
     ]
    }
   ],
   "source": [
    "# get all the measures we want and that have only main diagonal NaN\n",
    "measures = set(calc.table.columns.get_level_values(0))\n",
    "original_amount = len(measures)\n",
    "measures = [table for table in measures if calc.table[table].shape[1] == calc.table[table].isna().to_numpy().sum()]\n",
    "print(f'We retained {len(measures)}/{original_amount} similarity measures.')\n",
    "\n",
    "# create dataframe to save results\n",
    "results = pd.DataFrame(index=measures, columns=[\"gross accuracy\", \"median rank\", \"pairwise auroc\", \"Adjusted Rand Index\", \"Normalized Mutual Information\", \"Adjusted Mutual Information\", \"Homogeneity\", \"Completeness\", \"V-Measure\", 'Triplet Accuracy'], dtype=float)\n",
    "\n",
    "# produce the results\n",
    "for table in tqdm(measures, desc='Going through measures'):\n",
    "    gross_accuracy = 0\n",
    "        \n",
    "    # drop from the index, so we can't use it to compare\n",
    "    currtab = calc.table[table].copy()\n",
    "    results.loc[table, \"gross accuracy\"] = 0\n",
    "    \n",
    "    # check whether we have too many nan values\n",
    "    if currtab.isna().to_numpy().sum() > currtab.shape[1]:\n",
    "        print(table, 'has NaN.')\n",
    "        continue\n",
    "    \n",
    "    # go through the sensor and check the k closest\n",
    "    correct = 0\n",
    "    for element in currtab.columns:\n",
    "        \n",
    "        # drop the own element\n",
    "        series = currtab[element].drop(index=element)\n",
    "        \n",
    "        # go to the corresponding column and check the closest elements\n",
    "        closest = series.nlargest(1)\n",
    "        \n",
    "        # check majority class and also the closest element\n",
    "        rooms = dict()\n",
    "        for index, content in closest.items():\n",
    "            room = index.split('_')[0]\n",
    "            if room not in rooms:\n",
    "                rooms[room] = [1, content]\n",
    "            else:\n",
    "                rooms[room][0] += 1\n",
    "                rooms[room][1] = max(content, rooms[room][1])\n",
    "        \n",
    "        # get the maximum element\n",
    "        max_ele = max(rooms.items(), key= lambda x: x[1])[0]\n",
    "        gross_accuracy += max_ele == element.split('_')[0]\n",
    "    results.loc[table, \"gross accuracy\"] = gross_accuracy/currtab.shape[1]"
   ],
   "metadata": {
    "collapsed": false,
    "ExecuteTime": {
     "end_time": "2024-07-17T10:05:06.286109300Z",
     "start_time": "2024-07-17T10:05:01.864664800Z"
    }
   },
   "id": "1efebd54efc1a086",
   "execution_count": 22
  },
  {
   "cell_type": "code",
   "outputs": [
    {
     "data": {
      "text/plain": "prec-sq_LedoitWolf                             0.600000\nprec-sq_ShrunkCovariance                       0.600000\nphase_multitaper_mean_fs-1_fmin-0_fmax-0-25    0.571429\nphase_multitaper_mean_fs-1_fmin-0_fmax-0-5     0.571429\nprec-sq_OAS                                    0.542857\nprec-sq_EmpiricalCovariance                    0.542857\nsi_gaussian_k-1                                0.542857\npec                                            0.514286\nprec_LedoitWolf                                0.514286\nwpli_multitaper_mean_fs-1_fmin-0_fmax-0-25     0.485714\nName: gross accuracy, dtype: float64"
     },
     "execution_count": 8,
     "metadata": {},
     "output_type": "execute_result"
    }
   ],
   "source": [
    "results[\"gross accuracy\"].nlargest(10)"
   ],
   "metadata": {
    "collapsed": false,
    "ExecuteTime": {
     "end_time": "2024-07-15T08:08:10.805222400Z",
     "start_time": "2024-07-15T08:08:10.801199600Z"
    }
   },
   "id": "bfdc8d8f84c1770b",
   "execution_count": 8
  },
  {
   "cell_type": "code",
   "outputs": [
    {
     "data": {
      "text/plain": "prec-sq_ShrunkCovariance                       0.600000\nprec-sq_LedoitWolf                             0.600000\nphase_multitaper_mean_fs-1_fmin-0_fmax-0-25    0.571429\nphase_multitaper_mean_fs-1_fmin-0_fmax-0-5     0.571429\nprec-sq_OAS                                    0.542857\nsi_gaussian_k-1                                0.542857\nprec-sq_EmpiricalCovariance                    0.542857\nprec_LedoitWolf                                0.514286\npec                                            0.514286\nwpli_multitaper_mean_fs-1_fmin-0_fmax-0-25     0.485714\nName: gross accuracy, dtype: float64"
     },
     "execution_count": 23,
     "metadata": {},
     "output_type": "execute_result"
    }
   ],
   "source": [
    "results[\"gross accuracy\"].nlargest(10)"
   ],
   "metadata": {
    "collapsed": false,
    "ExecuteTime": {
     "end_time": "2024-07-17T10:05:15.915606900Z",
     "start_time": "2024-07-17T10:05:15.905553700Z"
    }
   },
   "id": "b9ca054a1aaed08d",
   "execution_count": 23
  },
  {
   "cell_type": "code",
   "outputs": [
    {
     "name": "stderr",
     "output_type": "stream",
     "text": [
      "Going through measures: 100%|██████████| 187/187 [00:02<00:00, 88.94it/s]\n"
     ]
    }
   ],
   "source": [
    "# produce the results\n",
    "for table in tqdm(measures, desc='Going through measures'):\n",
    "    \n",
    "    # get a copy of the results\n",
    "    currtab = calc.table[table].copy()\n",
    "    \n",
    "    # go through all columns and check the rank of other sensors from the same room\n",
    "    ranks = 0\n",
    "    for col in currtab.columns:\n",
    "        \n",
    "        # Extract the room number and type from the original string\n",
    "        room, type_to_exclude = col.split('_')\n",
    "        \n",
    "        # get the median rank of the sensors\n",
    "        median_rank = currtab[col].rank(ascending=False).filter(regex=rf'^{room}_(?!{type_to_exclude}$)').median()\n",
    "        ranks += median_rank\n",
    "    results.loc[table, \"median rank\"] = -ranks/len(currtab.columns)"
   ],
   "metadata": {
    "collapsed": false,
    "ExecuteTime": {
     "end_time": "2024-07-17T10:05:25.589343500Z",
     "start_time": "2024-07-17T10:05:23.471253500Z"
    }
   },
   "id": "100ab3c413893602",
   "execution_count": 24
  },
  {
   "cell_type": "code",
   "outputs": [
    {
     "data": {
      "text/plain": "si_gaussian_k-1                                -10.057143\nprec-sq_EmpiricalCovariance                    -11.100000\nprec-sq_OAS                                    -11.114286\nprec-sq_LedoitWolf                             -11.700000\nprec-sq_ShrunkCovariance                       -11.857143\nplv_multitaper_mean_fs-1_fmin-0_fmax-0-25      -11.871429\nppc_multitaper_mean_fs-1_fmin-0_fmax-0-25      -12.042857\ncoint_johansen_max_eig_stat_order-0_ardiff-1   -12.342857\ncoint_johansen_max_eig_stat_order-1_ardiff-1   -12.342857\ncohmag_multitaper_max_fs-1_fmin-0_fmax-0-25    -12.442857\nName: median rank, dtype: float64"
     },
     "execution_count": 10,
     "metadata": {},
     "output_type": "execute_result"
    }
   ],
   "source": [
    "results[\"median rank\"].nlargest(10)"
   ],
   "metadata": {
    "collapsed": false,
    "ExecuteTime": {
     "end_time": "2024-07-15T08:08:13.011794600Z",
     "start_time": "2024-07-15T08:08:13.008737600Z"
    }
   },
   "id": "36e9ba20558e3722",
   "execution_count": 10
  },
  {
   "cell_type": "code",
   "outputs": [
    {
     "data": {
      "text/plain": "si_gaussian_k-1                                -10.057143\nprec-sq_EmpiricalCovariance                    -11.100000\nprec-sq_OAS                                    -11.114286\nprec-sq_LedoitWolf                             -11.700000\nprec-sq_ShrunkCovariance                       -11.857143\nplv_multitaper_mean_fs-1_fmin-0_fmax-0-25      -11.871429\nppc_multitaper_mean_fs-1_fmin-0_fmax-0-25      -12.042857\ncoint_johansen_max_eig_stat_order-0_ardiff-1   -12.342857\ncoint_johansen_max_eig_stat_order-1_ardiff-1   -12.342857\ncohmag_multitaper_max_fs-1_fmin-0_fmax-0-25    -12.442857\nName: median rank, dtype: float64"
     },
     "execution_count": 25,
     "metadata": {},
     "output_type": "execute_result"
    }
   ],
   "source": [
    "results[\"median rank\"].nlargest(10)"
   ],
   "metadata": {
    "collapsed": false,
    "ExecuteTime": {
     "end_time": "2024-07-17T10:05:28.589159600Z",
     "start_time": "2024-07-17T10:05:28.577125500Z"
    }
   },
   "id": "fc17df7e4adcdd6e",
   "execution_count": 25
  },
  {
   "cell_type": "code",
   "outputs": [
    {
     "name": "stderr",
     "output_type": "stream",
     "text": [
      "Going through measures: 100%|██████████| 187/187 [00:01<00:00, 168.68it/s]\n"
     ]
    }
   ],
   "source": [
    "# now we can also use auroc to for pairwise interactions\n",
    "for table in tqdm(measures, desc='Going through measures'):\n",
    "    \n",
    "    # get a copy of the results\n",
    "    currtab = calc.table[table].copy()\n",
    "    \n",
    "    # make a copy to create the groundtruth\n",
    "    gt = currtab.copy()\n",
    "    gt.loc[:, :] = 0\n",
    "    \n",
    "    # make a numpy array that shows the rooms\n",
    "    first_letters = np.array([int(ele[0]) for ele in gt.index.str.split('_')])\n",
    "    \n",
    "    # go through the columns of the ground truth and place the ground truth\n",
    "    for col in gt.columns:\n",
    "        room = int(col.split('_')[0])\n",
    "        gt.loc[first_letters == room, col] = 1\n",
    "    \n",
    "    # Create a mask for the main diagonal\n",
    "    diagonal_mask = np.eye(currtab.shape[0], dtype=bool)\n",
    "    \n",
    "    # Invert the mask to get the non-diagonal elements\n",
    "    non_diagonal_mask = ~diagonal_mask\n",
    "    \n",
    "    # Flatten the DataFrame using the mask\n",
    "    flattened_non_diagonal = gt.values[non_diagonal_mask]\n",
    "    \n",
    "    # compute the roc_auc\n",
    "    roc_auc = roc_auc_score(gt.values[non_diagonal_mask], currtab.values[non_diagonal_mask])\n",
    "    \n",
    "    # put in the auc score\n",
    "    results.loc[table, \"pairwise auroc\"] = roc_auc"
   ],
   "metadata": {
    "collapsed": false,
    "ExecuteTime": {
     "end_time": "2024-07-15T08:08:14.140412100Z",
     "start_time": "2024-07-15T08:08:13.016457Z"
    }
   },
   "id": "d9004126fb3e9511",
   "execution_count": 11
  },
  {
   "cell_type": "code",
   "outputs": [
    {
     "data": {
      "text/plain": "ppc_multitaper_mean_fs-1_fmin-0_fmax-0-25      0.668816\nplv_multitaper_mean_fs-1_fmin-0_fmax-0-25      0.666857\nsi_gaussian_k-1                                0.654857\ndspli_multitaper_mean_fs-1_fmin-0_fmax-0-25    0.653197\nppc_multitaper_max_fs-1_fmin-0_fmax-0-5        0.640000\nplv_multitaper_max_fs-1_fmin-0_fmax-0-5        0.640000\nppc_multitaper_mean_fs-1_fmin-0_fmax-0-5       0.638639\nplv_multitaper_mean_fs-1_fmin-0_fmax-0-5       0.636272\nplv_multitaper_max_fs-1_fmin-0_fmax-0-25       0.630857\nppc_multitaper_max_fs-1_fmin-0_fmax-0-25       0.630857\nName: pairwise auroc, dtype: float64"
     },
     "execution_count": 12,
     "metadata": {},
     "output_type": "execute_result"
    }
   ],
   "source": [
    "results[\"pairwise auroc\"].nlargest(10)"
   ],
   "metadata": {
    "collapsed": false,
    "ExecuteTime": {
     "end_time": "2024-07-15T08:08:14.150286400Z",
     "start_time": "2024-07-15T08:08:14.144353900Z"
    }
   },
   "id": "14afba41a66f1dec",
   "execution_count": 12
  },
  {
   "cell_type": "code",
   "outputs": [
    {
     "name": "stderr",
     "output_type": "stream",
     "text": [
      "Going through measures: 100%|██████████| 187/187 [00:04<00:00, 46.19it/s]\n"
     ]
    }
   ],
   "source": [
    "# now we can also use auroc to for pairwise interactions\n",
    "rooms = {col.split('_')[0] for col in dataset.columns}\n",
    "for table in tqdm(measures, desc='Going through measures'):\n",
    "    \n",
    "    # get a copy of the results\n",
    "    currtab = calc.table[table].copy()\n",
    "    currtab.loc[:, :] -= currtab.min().min()\n",
    "    \n",
    "    # Compute the symmetric DataFrame by averaging with its transpose\n",
    "    currtab = (currtab + currtab.T) / 2\n",
    "    \n",
    "    # fill the main diagonal of the dataframe\n",
    "    np.fill_diagonal(currtab.values, 1)\n",
    "    \n",
    "    # make some clustering\n",
    "    clustering = SpectralClustering(n_clusters=len(rooms), affinity='precomputed')\n",
    "    predicted_labels = clustering.fit_predict(currtab)\n",
    "    \n",
    "    # evaluate the clustering\n",
    "    gt = [int(col.split('_')[0]) for col in currtab.columns]\n",
    "    \n",
    "    ari_score = adjusted_rand_score(gt, predicted_labels)\n",
    "    results.loc[table, \"Adjusted Rand Index\"] = ari_score\n",
    "    \n",
    "    nmi_score = normalized_mutual_info_score(gt, predicted_labels)\n",
    "    results.loc[table, \"Normalized Mutual Information\"] = nmi_score\n",
    "    \n",
    "    ami_score = adjusted_mutual_info_score(gt, predicted_labels)\n",
    "    results.loc[table, \"Adjusted Mutual Information\"] = ami_score\n",
    "    \n",
    "    homogeneity = homogeneity_score(gt, predicted_labels)\n",
    "    results.loc[table, \"Homogeneity\"] = homogeneity\n",
    "    \n",
    "    completeness = completeness_score(gt, predicted_labels)\n",
    "    results.loc[table, \"Completeness\"] = completeness\n",
    "    \n",
    "    v_measure = v_measure_score(gt, predicted_labels)\n",
    "    results.loc[table, \"V-Measure\"] = v_measure"
   ],
   "metadata": {
    "collapsed": false,
    "ExecuteTime": {
     "end_time": "2024-07-15T08:08:18.208369600Z",
     "start_time": "2024-07-15T08:08:14.156200700Z"
    }
   },
   "id": "bc3625336bf172e7",
   "execution_count": 13
  },
  {
   "cell_type": "code",
   "outputs": [
    {
     "data": {
      "text/plain": "psi_wavelet_mean_fs-1_fmin-0_fmax-0-5_mean        0.605774\npsi_wavelet_mean_fs-1_fmin-0-25_fmax-0-5_mean     0.605774\npsi_wavelet_max_fs-1_fmin-0_fmax-0-25_max         0.558351\npsi_wavelet_mean_fs-1_fmin-0_fmax-0-25_mean       0.558351\npsi_wavelet_max_fs-1_fmin-0_fmax-0-5_max          0.541410\npsi_wavelet_max_fs-1_fmin-0-25_fmax-0-5_max       0.541410\ncoint_aeg_tstat_trend-ct_autolag-bic_maxlag-10    0.432681\ngc_gaussian_k-1_kt-1_l-1_lt-1                     0.230552\nsi_gaussian_k-1                                   0.225241\ncoint_johansen_max_eig_stat_order-1_ardiff-1      0.178828\nName: Adjusted Rand Index, dtype: float64"
     },
     "execution_count": 14,
     "metadata": {},
     "output_type": "execute_result"
    }
   ],
   "source": [
    "results[\"Adjusted Rand Index\"].nlargest(10)"
   ],
   "metadata": {
    "collapsed": false,
    "ExecuteTime": {
     "end_time": "2024-07-15T08:08:18.216004400Z",
     "start_time": "2024-07-15T08:08:18.208369600Z"
    }
   },
   "id": "ad80143a166fe777",
   "execution_count": 14
  },
  {
   "cell_type": "code",
   "outputs": [
    {
     "data": {
      "text/plain": "psi_wavelet_mean_fs-1_fmin-0_fmax-0-5_mean        0.777774\npsi_wavelet_mean_fs-1_fmin-0-25_fmax-0-5_mean     0.777774\npsi_wavelet_max_fs-1_fmin-0_fmax-0-25_max         0.772704\npsi_wavelet_mean_fs-1_fmin-0_fmax-0-25_mean       0.772704\npsi_wavelet_max_fs-1_fmin-0_fmax-0-5_max          0.740983\npsi_wavelet_max_fs-1_fmin-0-25_fmax-0-5_max       0.740983\ncoint_aeg_tstat_trend-ct_autolag-bic_maxlag-10    0.712305\ngc_gaussian_k-1_kt-1_l-1_lt-1                     0.544297\ncoint_johansen_max_eig_stat_order-1_ardiff-1      0.534934\nsi_gaussian_k-1                                   0.530503\nName: Normalized Mutual Information, dtype: float64"
     },
     "execution_count": 15,
     "metadata": {},
     "output_type": "execute_result"
    }
   ],
   "source": [
    "results[\"Normalized Mutual Information\"].nlargest(10)"
   ],
   "metadata": {
    "collapsed": false,
    "ExecuteTime": {
     "end_time": "2024-07-15T08:08:18.225571200Z",
     "start_time": "2024-07-15T08:08:18.222089400Z"
    }
   },
   "id": "dff3df01dbc05f84",
   "execution_count": 15
  },
  {
   "cell_type": "code",
   "outputs": [
    {
     "data": {
      "text/plain": "psi_wavelet_mean_fs-1_fmin-0_fmax-0-5_mean        0.776624\npsi_wavelet_mean_fs-1_fmin-0-25_fmax-0-5_mean     0.776624\npsi_wavelet_max_fs-1_fmin-0_fmax-0-25_max         0.742909\npsi_wavelet_mean_fs-1_fmin-0_fmax-0-25_mean       0.742909\npsi_wavelet_max_fs-1_fmin-0_fmax-0-5_max          0.739888\npsi_wavelet_max_fs-1_fmin-0-25_fmax-0-5_max       0.739888\ncoint_aeg_tstat_trend-ct_autolag-bic_maxlag-10    0.668789\nsi_gaussian_k-1                                   0.519007\ngc_gaussian_k-1_kt-1_l-1_lt-1                     0.502466\ncoint_johansen_max_eig_stat_order-1_ardiff-1      0.496648\nName: Homogeneity, dtype: float64"
     },
     "execution_count": 16,
     "metadata": {},
     "output_type": "execute_result"
    }
   ],
   "source": [
    "results[\"Homogeneity\"].nlargest(10)"
   ],
   "metadata": {
    "collapsed": false,
    "ExecuteTime": {
     "end_time": "2024-07-15T08:08:18.233428200Z",
     "start_time": "2024-07-15T08:08:18.225571200Z"
    }
   },
   "id": "9306c919ca1c05d3",
   "execution_count": 16
  },
  {
   "cell_type": "code",
   "outputs": [
    {
     "data": {
      "text/plain": "psi_wavelet_max_fs-1_fmin-0_fmax-0-25_max         0.669337\npsi_wavelet_mean_fs-1_fmin-0_fmax-0-25_mean       0.669337\npsi_wavelet_mean_fs-1_fmin-0_fmax-0-5_mean        0.667968\npsi_wavelet_mean_fs-1_fmin-0-25_fmax-0-5_mean     0.667968\npsi_wavelet_max_fs-1_fmin-0_fmax-0-5_max          0.612998\npsi_wavelet_max_fs-1_fmin-0-25_fmax-0-5_max       0.612998\ncoint_aeg_tstat_trend-ct_autolag-bic_maxlag-10    0.589310\ngc_gaussian_k-1_kt-1_l-1_lt-1                     0.349117\ncoint_johansen_max_eig_stat_order-1_ardiff-1      0.321312\ncoint_aeg_tstat_trend-c_autolag-aic_maxlag-10     0.311030\nName: Adjusted Mutual Information, dtype: float64"
     },
     "execution_count": 17,
     "metadata": {},
     "output_type": "execute_result"
    }
   ],
   "source": [
    "results[\"Adjusted Mutual Information\"].nlargest(10)"
   ],
   "metadata": {
    "collapsed": false,
    "ExecuteTime": {
     "end_time": "2024-07-15T08:08:18.243447100Z",
     "start_time": "2024-07-15T08:08:18.233428200Z"
    }
   },
   "id": "6abda7b1fee728fb",
   "execution_count": 17
  },
  {
   "cell_type": "code",
   "outputs": [
    {
     "name": "stderr",
     "output_type": "stream",
     "text": [
      "Going through measures: 100%|██████████| 187/187 [00:16<00:00, 11.47it/s]\n"
     ]
    }
   ],
   "source": [
    "# make the triplet accuracy\n",
    "for table in tqdm(measures, desc='Going through measures'):\n",
    "    \n",
    "    # get a copy of the results\n",
    "    currtab = calc.table[table].copy()\n",
    "    \n",
    "    # go through all the different triplets and make accuracy\n",
    "    sensors = list(currtab.columns)\n",
    "    \n",
    "    # make all the triplets and whether they are successful\n",
    "    triplets = [currtab.loc[anchor, positive] > currtab.loc[anchor, negative] for adx, anchor in enumerate(sensors) for pdx, positive in enumerate(sensors) for ndx, negative in enumerate(sensors) if ndx != pdx and ndx != adx and pdx != adx and anchor.split('_')[0] == positive.split('_')[0] and anchor.split('_')[0] != negative.split('_')[0]]\n",
    "    \n",
    "    # compute the triplet accuracy\n",
    "    results.loc[table, 'Triplet Accuracy'] = sum(triplets)/len(triplets)"
   ],
   "metadata": {
    "collapsed": false,
    "ExecuteTime": {
     "end_time": "2024-07-15T08:08:34.548788400Z",
     "start_time": "2024-07-15T08:08:18.243447100Z"
    }
   },
   "id": "4c9c14b49a521f0c",
   "execution_count": 18
  },
  {
   "cell_type": "code",
   "outputs": [
    {
     "data": {
      "text/plain": "si_gaussian_k-1                                 0.700238\nplv_multitaper_mean_fs-1_fmin-0_fmax-0-25       0.678571\nppc_multitaper_mean_fs-1_fmin-0_fmax-0-25       0.677381\nprec-sq_EmpiricalCovariance                     0.665714\nprec-sq_OAS                                     0.657857\ndspli_multitaper_mean_fs-1_fmin-0_fmax-0-25     0.653571\nprec-sq_ShrunkCovariance                        0.648810\nprec-sq_LedoitWolf                              0.643333\ncoint_johansen_max_eig_stat_order-0_ardiff-1    0.638333\ncoint_johansen_max_eig_stat_order-1_ardiff-1    0.638333\nName: Triplet Accuracy, dtype: float64"
     },
     "execution_count": 19,
     "metadata": {},
     "output_type": "execute_result"
    }
   ],
   "source": [
    "results['Triplet Accuracy'].nlargest(10)"
   ],
   "metadata": {
    "collapsed": false,
    "ExecuteTime": {
     "end_time": "2024-07-15T08:08:34.560036300Z",
     "start_time": "2024-07-15T08:08:34.551921300Z"
    }
   },
   "id": "9e78ec504bc26bf2",
   "execution_count": 19
  },
  {
   "cell_type": "code",
   "outputs": [
    {
     "data": {
      "text/plain": "si_gaussian_k-1                                   7.40\ngc_gaussian_k-1_kt-1_l-1_lt-1                    13.75\npec                                              14.40\ncohmag_multitaper_max_fs-1_fmin-0_fmax-0-25      21.35\npec_orth                                         22.00\ndspli_multitaper_mean_fs-1_fmin-0_fmax-0-25      22.80\ndspli_multitaper_mean_fs-1_fmin-0_fmax-0-5       25.30\ncoint_johansen_max_eig_stat_order-1_ardiff-1     26.20\ncoint_johansen_max_eig_stat_order-1_ardiff-10    26.90\ncoint_johansen_max_eig_stat_order-0_ardiff-1     28.00\ndtype: float64"
     },
     "execution_count": 20,
     "metadata": {},
     "output_type": "execute_result"
    }
   ],
   "source": [
    "results.rank(ascending=False).mean(axis=1).nsmallest(10)"
   ],
   "metadata": {
    "collapsed": false,
    "ExecuteTime": {
     "end_time": "2024-07-15T08:08:34.577264600Z",
     "start_time": "2024-07-15T08:08:34.561149300Z"
    }
   },
   "id": "4932624ad4c405c9",
   "execution_count": 20
  },
  {
   "cell_type": "code",
   "outputs": [
    {
     "data": {
      "text/plain": "gross accuracy                    6.0\nmedian rank                       1.0\npairwise auroc                    3.0\nAdjusted Rand Index               9.0\nNormalized Mutual Information    10.0\nAdjusted Mutual Information      11.0\nHomogeneity                       8.0\nCompleteness                     15.0\nV-Measure                        10.0\nTriplet Accuracy                  1.0\nName: si_gaussian_k-1, dtype: float64"
     },
     "execution_count": 21,
     "metadata": {},
     "output_type": "execute_result"
    }
   ],
   "source": [
    "results.rank(ascending=False).loc[\"si_gaussian_k-1\"]"
   ],
   "metadata": {
    "collapsed": false,
    "ExecuteTime": {
     "end_time": "2024-07-15T08:08:34.580553300Z",
     "start_time": "2024-07-15T08:08:34.572051600Z"
    }
   },
   "id": "fd6b6a68a50522b4",
   "execution_count": 21
  },
  {
   "cell_type": "code",
   "outputs": [],
   "source": [],
   "metadata": {
    "collapsed": false,
    "ExecuteTime": {
     "start_time": "2024-07-15T08:06:12.629233400Z"
    }
   },
   "id": "fbb14758adb56da1"
  }
 ],
 "metadata": {
  "kernelspec": {
   "display_name": "Python 3",
   "language": "python",
   "name": "python3"
  },
  "language_info": {
   "codemirror_mode": {
    "name": "ipython",
    "version": 2
   },
   "file_extension": ".py",
   "mimetype": "text/x-python",
   "name": "python",
   "nbconvert_exporter": "python",
   "pygments_lexer": "ipython2",
   "version": "2.7.6"
  }
 },
 "nbformat": 4,
 "nbformat_minor": 5
}
